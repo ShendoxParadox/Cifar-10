{
 "cells": [
  {
   "cell_type": "code",
   "execution_count": 1,
   "metadata": {
    "_cell_guid": "b1076dfc-b9ad-4769-8c92-a6c4dae69d19",
    "_uuid": "8f2839f25d086af736a60e9eeb907d3b93b6e0e5"
   },
   "outputs": [
    {
     "name": "stderr",
     "output_type": "stream",
     "text": [
      "Using TensorFlow backend.\n"
     ]
    },
    {
     "name": "stdout",
     "output_type": "stream",
     "text": [
      "['xception_weights_tf_dim_ordering_tf_kernels_notop.h5', 'imagenet_class_index.json', 'inception_resnet_v2_weights_tf_dim_ordering_tf_kernels.h5', 'resnet50_weights_tf_dim_ordering_tf_kernels_notop.h5', 'inception_v3_weights_tf_dim_ordering_tf_kernels.h5', 'xception_weights_tf_dim_ordering_tf_kernels.h5', 'inception_v3_weights_tf_dim_ordering_tf_kernels_notop.h5', 'resnet50_weights_tf_dim_ordering_tf_kernels.h5', 'inception_resnet_v2_weights_tf_dim_ordering_tf_kernels_notop.h5', 'Kuszma.JPG', 'vgg16_weights_tf_dim_ordering_tf_kernels_notop.h5']\n"
     ]
    }
   ],
   "source": [
    "# This Python 3 environment comes with many helpful analytics libraries installed\n",
    "# It is defined by the kaggle/python docker image: https://github.com/kaggle/docker-python\n",
    "# For example, here's several helpful packages to load in \n",
    "\n",
    "import numpy as np # linear algebra\n",
    "import pandas as pd # data processing, CSV file I/O (e.g. pd.read_csv)\n",
    "import keras as k\n",
    "\n",
    "# Input data files are available in the \"../input/\" directory.\n",
    "# For example, running this (by clicking run or pressing Shift+Enter) will list the files in the input directory\n",
    "\n",
    "import os\n",
    "print(os.listdir(\"../input\"))\n",
    "\n",
    "# Any results you write to the current directory are saved as output."
   ]
  },
  {
   "cell_type": "code",
   "execution_count": 2,
   "metadata": {},
   "outputs": [],
   "source": [
    "%matplotlib inline\n",
    "import numpy as np\n",
    "import pandas as pd\n",
    "import datetime as dt\n",
    "import matplotlib.pyplot as plt\n",
    "from mpl_toolkits.axes_grid1 import ImageGrid\n",
    "from os import listdir, makedirs\n",
    "from os.path import join, exists, expanduser\n",
    "from tqdm import tqdm\n",
    "from sklearn.metrics import log_loss, accuracy_score\n",
    "from keras.preprocessing import image\n",
    "from keras.applications.vgg16 import VGG16\n",
    "from keras.applications.resnet50 import ResNet50\n",
    "from keras.applications import xception\n",
    "from keras.applications import inception_v3\n",
    "from keras.applications.vgg16 import preprocess_input, decode_predictions\n",
    "from sklearn.linear_model import LogisticRegression"
   ]
  },
  {
   "cell_type": "markdown",
   "metadata": {},
   "source": [
    "# Predicting from ImageNet ResNet"
   ]
  },
  {
   "cell_type": "code",
   "execution_count": 3,
   "metadata": {},
   "outputs": [],
   "source": [
    "#%%       Load and Test ResNet50\n",
    "#----------------------------------------------\n",
    "RESNET50_WEIGHTS = '../input/resnet50_weights_tf_dim_ordering_tf_kernels.h5'\n",
    "RESNET50_NOTOP_WEIGHTS = '../input/resnet50_weights_tf_dim_ordering_tf_kernels_notop.h5'"
   ]
  },
  {
   "cell_type": "code",
   "execution_count": 4,
   "metadata": {},
   "outputs": [
    {
     "name": "stdout",
     "output_type": "stream",
     "text": [
      "WARNING:tensorflow:From /opt/conda/lib/python3.6/site-packages/tensorflow/python/framework/op_def_library.py:263: colocate_with (from tensorflow.python.framework.ops) is deprecated and will be removed in a future version.\n",
      "Instructions for updating:\n",
      "Colocations handled automatically by placer.\n"
     ]
    }
   ],
   "source": [
    "# Load Keras' ResNet50 model that was pre-trained against the ImageNet database\n",
    "model = k.applications.resnet50.ResNet50(weights=RESNET50_WEIGHTS)\n",
    "\n",
    "# Load the image file, resizing it to 224x224 pixels (required by this model)\n",
    "img = k.preprocessing.image.load_img(\"../input/Kuszma.JPG\", target_size=(224, 224))\n",
    "\n",
    "# Convert the image to a numpy array\n",
    "x = k.preprocessing.image.img_to_array(img)\n",
    "\n",
    "# Add a forth dimension since Keras expects a list of images\n",
    "x = np.expand_dims(x, axis=0)"
   ]
  },
  {
   "cell_type": "code",
   "execution_count": 5,
   "metadata": {},
   "outputs": [],
   "source": [
    "#%%               Processing\n",
    "#----------------------------------------------\n",
    "\n",
    "# Scale the input image to the range used in the trained network\n",
    "x = k.applications.resnet50.preprocess_input(x)"
   ]
  },
  {
   "cell_type": "code",
   "execution_count": 6,
   "metadata": {},
   "outputs": [
    {
     "name": "stdout",
     "output_type": "stream",
     "text": [
      "Downloading data from https://s3.amazonaws.com/deep-learning-models/image-models/imagenet_class_index.json\n",
      "40960/35363 [==================================] - 0s 2us/step\n",
      "This is an image of:\n",
      " - Border_terrier: 0.373484 likelihood\n",
      " - German_shepherd: 0.164454 likelihood\n",
      " - malinois: 0.123689 likelihood\n",
      " - Rottweiler: 0.072670 likelihood\n",
      " - Airedale: 0.040850 likelihood\n",
      " - Doberman: 0.033915 likelihood\n",
      " - bluetick: 0.016407 likelihood\n",
      " - American_Staffordshire_terrier: 0.015076 likelihood\n",
      " - kelpie: 0.013544 likelihood\n"
     ]
    }
   ],
   "source": [
    "#%%               Prediction\n",
    "#----------------------------------------------\n",
    "# Run the image through the deep neural network to make a prediction\n",
    "predictions = model.predict(x)\n",
    "\n",
    "# Look up the names of the predicted classes. Index zero is the results for the first image.\n",
    "predicted_classes = k.applications.resnet50.decode_predictions(predictions, top=9)\n",
    "\n",
    "print(\"This is an image of:\")\n",
    "\n",
    "for imagenet_id, name, likelihood in predicted_classes[0]:\n",
    "    print(\" - {}: {:2f} likelihood\".format(name, likelihood))\n"
   ]
  },
  {
   "cell_type": "markdown",
   "metadata": {},
   "source": [
    "# Transfer Learning"
   ]
  },
  {
   "cell_type": "code",
   "execution_count": 7,
   "metadata": {},
   "outputs": [
    {
     "name": "stdout",
     "output_type": "stream",
     "text": [
      "Downloading data from https://www.cs.toronto.edu/~kriz/cifar-10-python.tar.gz\n",
      "170500096/170498071 [==============================] - 6s 0us/step\n"
     ]
    }
   ],
   "source": [
    "# Load CIFAR10 data\n",
    "(X_train, y_train), (_, _) = k.datasets.cifar10.load_data()"
   ]
  },
  {
   "cell_type": "code",
   "execution_count": 8,
   "metadata": {},
   "outputs": [
    {
     "data": {
      "text/plain": [
       "(50000, 32, 32, 3)"
      ]
     },
     "execution_count": 8,
     "metadata": {},
     "output_type": "execute_result"
    }
   ],
   "source": [
    "X_train.shape"
   ]
  },
  {
   "cell_type": "code",
   "execution_count": 9,
   "metadata": {},
   "outputs": [
    {
     "data": {
      "text/plain": [
       "array([0, 1, 2, 3, 4, 5, 6, 7, 8, 9], dtype=uint8)"
      ]
     },
     "execution_count": 9,
     "metadata": {},
     "output_type": "execute_result"
    }
   ],
   "source": [
    "np.unique(y_train)"
   ]
  },
  {
   "cell_type": "code",
   "execution_count": 10,
   "metadata": {},
   "outputs": [
    {
     "data": {
      "image/png": "[encoded data removed]",
      "text/plain": [
       "<Figure size 1152x720 with 15 Axes>"
      ]
     },
     "metadata": {},
     "output_type": "display_data"
    }
   ],
   "source": [
    "fig, axes = plt.subplots(3,5, figsize=(16,10))\n",
    "\n",
    "for i in range(3):\n",
    "    for j in range(5):\n",
    "        axes[i, j].imshow(X_train[np.random.randint(50000, size=1)[0]][:,:,:])"
   ]
  },
  {
   "cell_type": "code",
   "execution_count": 11,
   "metadata": {},
   "outputs": [],
   "source": [
    "from sklearn.model_selection import train_test_split\n",
    "X_train, X_test, y_train, y_test = train_test_split(X_train, y_train, test_size=0.2)"
   ]
  },
  {
   "cell_type": "code",
   "execution_count": 12,
   "metadata": {},
   "outputs": [
    {
     "data": {
      "text/plain": [
       "(40000, 32, 32, 3)"
      ]
     },
     "execution_count": 12,
     "metadata": {},
     "output_type": "execute_result"
    }
   ],
   "source": [
    "X_train.shape"
   ]
  },
  {
   "cell_type": "code",
   "execution_count": 13,
   "metadata": {},
   "outputs": [],
   "source": [
    "# X_train = X_train.reshape(X_train.shape[0], 30, 30, 3).astype('float32')\n",
    "# X_test = X_test.reshape(X_test.shape[0], 3, 224, 224).astype('float32')"
   ]
  },
  {
   "cell_type": "code",
   "execution_count": 14,
   "metadata": {},
   "outputs": [],
   "source": [
    "num_class = 10\n",
    "# Convert class vectors to binary class matrices.\n",
    "y_train = k.utils.to_categorical(y_train, num_class)\n",
    "#y_test = k.utils.to_categorical(y_test, num_class)"
   ]
  },
  {
   "cell_type": "code",
   "execution_count": 15,
   "metadata": {},
   "outputs": [],
   "source": [
    "pretrained_model = k.applications.resnet50.ResNet50(weights=RESNET50_WEIGHTS)"
   ]
  },
  {
   "cell_type": "code",
   "execution_count": 16,
   "metadata": {},
   "outputs": [
    {
     "name": "stdout",
     "output_type": "stream",
     "text": [
      "Output_layer_type= <keras.layers.core.Dense object at 0x7f8199dadf60>\n",
      "Output_layer_shape= (None, 1000)\n"
     ]
    }
   ],
   "source": [
    "print('Output_layer_type= {}'.format(pretrained_model.layers[-1]))\n",
    "print('Output_layer_shape= {}'.format(pretrained_model.layers[-1].output_shape))"
   ]
  },
  {
   "cell_type": "code",
   "execution_count": 17,
   "metadata": {},
   "outputs": [
    {
     "data": {
      "text/plain": [
       "<keras.layers.core.Dense at 0x7f8199dadf60>"
      ]
     },
     "execution_count": 17,
     "metadata": {},
     "output_type": "execute_result"
    }
   ],
   "source": [
    "pretrained_model.layers.pop()"
   ]
  },
  {
   "cell_type": "code",
   "execution_count": 18,
   "metadata": {},
   "outputs": [
    {
     "name": "stdout",
     "output_type": "stream",
     "text": [
      "Output_layer_type= <keras.layers.pooling.GlobalAveragePooling2D object at 0x7f8199dd9a58>\n",
      "Output_layer_shape= (None, 2048)\n"
     ]
    }
   ],
   "source": [
    "print('Output_layer_type= {}'.format(pretrained_model.layers[-1]))\n",
    "print('Output_layer_shape= {}'.format(pretrained_model.layers[-1].output_shape))"
   ]
  },
  {
   "cell_type": "code",
   "execution_count": 19,
   "metadata": {},
   "outputs": [
    {
     "data": {
      "text/plain": [
       "[<keras.engine.input_layer.InputLayer at 0x7f81c6b5de80>,\n",
       " <keras.layers.convolutional.ZeroPadding2D at 0x7f81c6500dd8>,\n",
       " <keras.layers.convolutional.Conv2D at 0x7f81c3a4ec88>,\n",
       " <keras.layers.normalization.BatchNormalization at 0x7f81c3a60cf8>,\n",
       " <keras.layers.core.Activation at 0x7f81c3b98e48>,\n",
       " <keras.layers.convolutional.ZeroPadding2D at 0x7f81c39f1cf8>,\n",
       " <keras.layers.pooling.MaxPooling2D at 0x7f81c3abc518>,\n",
       " <keras.layers.convolutional.Conv2D at 0x7f81c39e2c50>,\n",
       " <keras.layers.normalization.BatchNormalization at 0x7f81c3083198>,\n",
       " <keras.layers.core.Activation at 0x7f81c3083940>,\n",
       " <keras.layers.convolutional.Conv2D at 0x7f81c309fe10>,\n",
       " <keras.layers.normalization.BatchNormalization at 0x7f81c306d6d8>,\n",
       " <keras.layers.core.Activation at 0x7f81c300e400>,\n",
       " <keras.layers.convolutional.Conv2D at 0x7f81c2faa208>,\n",
       " <keras.layers.convolutional.Conv2D at 0x7f81c2f1b358>,\n",
       " <keras.layers.normalization.BatchNormalization at 0x7f81c2f42be0>,\n",
       " <keras.layers.normalization.BatchNormalization at 0x7f81c2e51860>,\n",
       " <keras.layers.merge.Add at 0x7f81c2e0cd30>,\n",
       " <keras.layers.core.Activation at 0x7f81c2d47b38>,\n",
       " <keras.layers.convolutional.Conv2D at 0x7f81c2d1d8d0>,\n",
       " <keras.layers.normalization.BatchNormalization at 0x7f81c2d47a90>,\n",
       " <keras.layers.core.Activation at 0x7f81c1296e10>,\n",
       " <keras.layers.convolutional.Conv2D at 0x7f81c125fe10>,\n",
       " <keras.layers.normalization.BatchNormalization at 0x7f81c127a080>,\n",
       " <keras.layers.core.Activation at 0x7f81c11d61d0>,\n",
       " <keras.layers.convolutional.Conv2D at 0x7f81c10c29b0>,\n",
       " <keras.layers.normalization.BatchNormalization at 0x7f81c110f320>,\n",
       " <keras.layers.merge.Add at 0x7f81c10e8208>,\n",
       " <keras.layers.core.Activation at 0x7f81c10275f8>,\n",
       " <keras.layers.convolutional.Conv2D at 0x7f81c0ffc390>,\n",
       " <keras.layers.normalization.BatchNormalization at 0x7f81c0f9f0f0>,\n",
       " <keras.layers.core.Activation at 0x7f81c0f6e908>,\n",
       " <keras.layers.convolutional.Conv2D at 0x7f81c0ebff28>,\n",
       " <keras.layers.normalization.BatchNormalization at 0x7f81c0eecf60>,\n",
       " <keras.layers.core.Activation at 0x7f81c0ead5c0>,\n",
       " <keras.layers.convolutional.Conv2D at 0x7f81c0de6cf8>,\n",
       " <keras.layers.normalization.BatchNormalization at 0x7f81c0d81898>,\n",
       " <keras.layers.merge.Add at 0x7f81c0cdf898>,\n",
       " <keras.layers.core.Activation at 0x7f81c0cfd048>,\n",
       " <keras.layers.convolutional.Conv2D at 0x7f81c0cfd518>,\n",
       " <keras.layers.normalization.BatchNormalization at 0x7f81c0cbbcf8>,\n",
       " <keras.layers.core.Activation at 0x7f81c0bd20b8>,\n",
       " <keras.layers.convolutional.Conv2D at 0x7f81c0ac4208>,\n",
       " <keras.layers.normalization.BatchNormalization at 0x7f81c0b93518>,\n",
       " <keras.layers.core.Activation at 0x7f81c0b685f8>,\n",
       " <keras.layers.convolutional.Conv2D at 0x7f81c0aa9550>,\n",
       " <keras.layers.convolutional.Conv2D at 0x7f81c0a21320>,\n",
       " <keras.layers.normalization.BatchNormalization at 0x7f81c0a42be0>,\n",
       " <keras.layers.normalization.BatchNormalization at 0x7f81c09442e8>,\n",
       " <keras.layers.merge.Add at 0x7f81c0913860>,\n",
       " <keras.layers.core.Activation at 0x7f81c084fb00>,\n",
       " <keras.layers.convolutional.Conv2D at 0x7f81c0828898>,\n",
       " <keras.layers.normalization.BatchNormalization at 0x7f81c083b630>,\n",
       " <keras.layers.core.Activation at 0x7f81c079ddd8>,\n",
       " <keras.layers.convolutional.Conv2D at 0x7f81c0739c50>,\n",
       " <keras.layers.normalization.BatchNormalization at 0x7f81c0718b70>,\n",
       " <keras.layers.core.Activation at 0x7f81c06d9c50>,\n",
       " <keras.layers.convolutional.Conv2D at 0x7f81c05cc978>,\n",
       " <keras.layers.normalization.BatchNormalization at 0x7f81c0631e48>,\n",
       " <keras.layers.merge.Add at 0x7f81c05f1f28>,\n",
       " <keras.layers.core.Activation at 0x7f81c05315c0>,\n",
       " <keras.layers.convolutional.Conv2D at 0x7f81c0484358>,\n",
       " <keras.layers.normalization.BatchNormalization at 0x7f81c0531358>,\n",
       " <keras.layers.core.Activation at 0x7f81c0475898>,\n",
       " <keras.layers.convolutional.Conv2D at 0x7f81c03c7ef0>,\n",
       " <keras.layers.normalization.BatchNormalization at 0x7f81c03f1f28>,\n",
       " <keras.layers.core.Activation at 0x7f81c03b5588>,\n",
       " <keras.layers.convolutional.Conv2D at 0x7f81c02f1cc0>,\n",
       " <keras.layers.normalization.BatchNormalization at 0x7f81c02aeac8>,\n",
       " <keras.layers.merge.Add at 0x7f81c024d898>,\n",
       " <keras.layers.core.Activation at 0x7f81c0184080>,\n",
       " <keras.layers.convolutional.Conv2D at 0x7f81c01844e0>,\n",
       " <keras.layers.normalization.BatchNormalization at 0x7f81c015fc50>,\n",
       " <keras.layers.core.Activation at 0x7f81c00da320>,\n",
       " <keras.layers.convolutional.Conv2D at 0x7f81c004cf60>,\n",
       " <keras.layers.normalization.BatchNormalization at 0x7f81c009a4e0>,\n",
       " <keras.layers.core.Activation at 0x7f81c0074588>,\n",
       " <keras.layers.convolutional.Conv2D at 0x7f81bffae518>,\n",
       " <keras.layers.normalization.BatchNormalization at 0x7f81bff01550>,\n",
       " <keras.layers.merge.Add at 0x7f81bff29278>,\n",
       " <keras.layers.core.Activation at 0x7f81bfe482e8>,\n",
       " <keras.layers.convolutional.Conv2D at 0x7f81bfe16828>,\n",
       " <keras.layers.normalization.BatchNormalization at 0x7f81bfe2c5c0>,\n",
       " <keras.layers.core.Activation at 0x7f81bfd8df60>,\n",
       " <keras.layers.convolutional.Conv2D at 0x7f81bfd29fd0>,\n",
       " <keras.layers.normalization.BatchNormalization at 0x7f81bfd56668>,\n",
       " <keras.layers.core.Activation at 0x7f81bfccd198>,\n",
       " <keras.layers.convolutional.Conv2D at 0x7f81bfc3cf98>,\n",
       " <keras.layers.convolutional.Conv2D at 0x7f81bfbe1630>,\n",
       " <keras.layers.normalization.BatchNormalization at 0x7f81bfc06240>,\n",
       " <keras.layers.normalization.BatchNormalization at 0x7f81bfb22518>,\n",
       " <keras.layers.merge.Add at 0x7f81bfaf62b0>,\n",
       " <keras.layers.core.Activation at 0x7f81bfa31a90>,\n",
       " <keras.layers.convolutional.Conv2D at 0x7f81bf98a828>,\n",
       " <keras.layers.normalization.BatchNormalization at 0x7f81bf9aa588>,\n",
       " <keras.layers.core.Activation at 0x7f81bf926438>,\n",
       " <keras.layers.convolutional.Conv2D at 0x7f81bf8e5240>,\n",
       " <keras.layers.normalization.BatchNormalization at 0x7f81bf8e5978>,\n",
       " <keras.layers.core.Activation at 0x7f81bf8b95c0>,\n",
       " <keras.layers.convolutional.Conv2D at 0x7f81bf7f9710>,\n",
       " <keras.layers.normalization.BatchNormalization at 0x7f81bf750550>,\n",
       " <keras.layers.merge.Add at 0x7f81bf7712b0>,\n",
       " <keras.layers.core.Activation at 0x7f81bf6912e8>,\n",
       " <keras.layers.convolutional.Conv2D at 0x7f81bf6627f0>,\n",
       " <keras.layers.normalization.BatchNormalization at 0x7f81bf6919e8>,\n",
       " <keras.layers.core.Activation at 0x7f81bf581160>,\n",
       " <keras.layers.convolutional.Conv2D at 0x7f81bf540208>,\n",
       " <keras.layers.normalization.BatchNormalization at 0x7f81bf540940>,\n",
       " <keras.layers.core.Activation at 0x7f81bf51a588>,\n",
       " <keras.layers.convolutional.Conv2D at 0x7f81bf4534e0>,\n",
       " <keras.layers.normalization.BatchNormalization at 0x7f81bf46e7f0>,\n",
       " <keras.layers.merge.Add at 0x7f81bf3c22b0>,\n",
       " <keras.layers.core.Activation at 0x7f81bf36c710>,\n",
       " <keras.layers.convolutional.Conv2D at 0x7f81bf33c7f0>,\n",
       " <keras.layers.normalization.BatchNormalization at 0x7f81bf36c9b0>,\n",
       " <keras.layers.core.Activation at 0x7f81bf258128>,\n",
       " <keras.layers.convolutional.Conv2D at 0x7f81bf2193c8>,\n",
       " <keras.layers.normalization.BatchNormalization at 0x7f81bf219908>,\n",
       " <keras.layers.core.Activation at 0x7f81bf1f1898>,\n",
       " <keras.layers.convolutional.Conv2D at 0x7f81bf12e4a8>,\n",
       " <keras.layers.normalization.BatchNormalization at 0x7f81bf0834e0>,\n",
       " <keras.layers.merge.Add at 0x7f81bf0a5208>,\n",
       " <keras.layers.core.Activation at 0x7f81befc66d8>,\n",
       " <keras.layers.convolutional.Conv2D at 0x7f81beff2ef0>,\n",
       " <keras.layers.normalization.BatchNormalization at 0x7f81befb56d8>,\n",
       " <keras.layers.core.Activation at 0x7f81bef30978>,\n",
       " <keras.layers.convolutional.Conv2D at 0x7f81beef1198>,\n",
       " <keras.layers.normalization.BatchNormalization at 0x7f81beef18d0>,\n",
       " <keras.layers.core.Activation at 0x7f81bee4d518>,\n",
       " <keras.layers.convolutional.Conv2D at 0x7f81bed89470>,\n",
       " <keras.layers.normalization.BatchNormalization at 0x7f81beda1780>,\n",
       " <keras.layers.merge.Add at 0x7f81bed00240>,\n",
       " <keras.layers.core.Activation at 0x7f81beca09e8>,\n",
       " <keras.layers.convolutional.Conv2D at 0x7f81bec6e780>,\n",
       " <keras.layers.normalization.BatchNormalization at 0x7f81beca0940>,\n",
       " <keras.layers.core.Activation at 0x7f81beb8d390>,\n",
       " <keras.layers.convolutional.Conv2D at 0x7f81beb4b160>,\n",
       " <keras.layers.normalization.BatchNormalization at 0x7f81beb66208>,\n",
       " <keras.layers.core.Activation at 0x7f81beb27fd0>,\n",
       " <keras.layers.convolutional.Conv2D at 0x7f81bea63438>,\n",
       " <keras.layers.normalization.BatchNormalization at 0x7f81bea39860>,\n",
       " <keras.layers.merge.Add at 0x7f81be9db438>,\n",
       " <keras.layers.core.Activation at 0x7f81be97a9b0>,\n",
       " <keras.layers.convolutional.Conv2D at 0x7f81be8c9748>,\n",
       " <keras.layers.normalization.BatchNormalization at 0x7f81be8ea4e0>,\n",
       " <keras.layers.core.Activation at 0x7f81be864358>,\n",
       " <keras.layers.convolutional.Conv2D at 0x7f81be822128>,\n",
       " <keras.layers.normalization.BatchNormalization at 0x7f81be822860>,\n",
       " <keras.layers.core.Activation at 0x7f81be77f4a8>,\n",
       " <keras.layers.convolutional.Conv2D at 0x7f81be73d400>,\n",
       " <keras.layers.convolutional.Conv2D at 0x7f81be6b31d0>,\n",
       " <keras.layers.normalization.BatchNormalization at 0x7f81be6d7710>,\n",
       " <keras.layers.normalization.BatchNormalization at 0x7f81be5d4978>,\n",
       " <keras.layers.merge.Add at 0x7f81be5a4710>,\n",
       " <keras.layers.core.Activation at 0x7f81be4e0c50>,\n",
       " <keras.layers.convolutional.Conv2D at 0x7f81be4e0a90>,\n",
       " <keras.layers.normalization.BatchNormalization at 0x7f81be4b8f60>,\n",
       " <keras.layers.core.Activation at 0x7f81be3cd710>,\n",
       " <keras.layers.convolutional.Conv2D at 0x7f81be3b03c8>,\n",
       " <keras.layers.normalization.BatchNormalization at 0x7f81be36b550>,\n",
       " <keras.layers.core.Activation at 0x7f81be30d3c8>,\n",
       " <keras.layers.convolutional.Conv2D at 0x7f81be245ba8>,\n",
       " <keras.layers.normalization.BatchNormalization at 0x7f81be260fd0>,\n",
       " <keras.layers.merge.Add at 0x7f81be2217b8>,\n",
       " <keras.layers.core.Activation at 0x7f81be1bb748>,\n",
       " <keras.layers.convolutional.Conv2D at 0x7f81be1bba90>,\n",
       " <keras.layers.normalization.BatchNormalization at 0x7f81be113f60>,\n",
       " <keras.layers.core.Activation at 0x7f81be0a8710>,\n",
       " <keras.layers.convolutional.Conv2D at 0x7f81be071da0>,\n",
       " <keras.layers.normalization.BatchNormalization at 0x7f8199fe5c50>,\n",
       " <keras.layers.core.Activation at 0x7f8199fa6438>,\n",
       " <keras.layers.convolutional.Conv2D at 0x7f8199ec6fd0>,\n",
       " <keras.layers.normalization.BatchNormalization at 0x7f8199efafd0>,\n",
       " <keras.layers.merge.Add at 0x7f8199ebb160>,\n",
       " <keras.layers.core.Activation at 0x7f8199dd9710>,\n",
       " <keras.layers.pooling.GlobalAveragePooling2D at 0x7f8199dd9a58>]"
      ]
     },
     "execution_count": 19,
     "metadata": {},
     "output_type": "execute_result"
    }
   ],
   "source": [
    "pretrained_model.layers"
   ]
  },
  {
   "cell_type": "code",
   "execution_count": 20,
   "metadata": {},
   "outputs": [
    {
     "data": {
      "text/plain": [
       "176"
      ]
     },
     "execution_count": 20,
     "metadata": {},
     "output_type": "execute_result"
    }
   ],
   "source": [
    "len(pretrained_model.layers)"
   ]
  },
  {
   "cell_type": "code",
   "execution_count": 21,
   "metadata": {},
   "outputs": [],
   "source": [
    "for layer in pretrained_model.layers[0:-21]:\n",
    "    layer.trainable = False"
   ]
  },
  {
   "cell_type": "code",
   "execution_count": 22,
   "metadata": {},
   "outputs": [],
   "source": [
    "from keras.layers import ZeroPadding2D\n",
    "from keras.layers import Dense, Dropout, Flatten, Conv2D, MaxPool2D"
   ]
  },
  {
   "cell_type": "code",
   "execution_count": 23,
   "metadata": {},
   "outputs": [],
   "source": [
    "model = k.models.Sequential()\n",
    "model.add(ZeroPadding2D((96, 96), input_shape=(32, 32,  3)))\n",
    "model.add(pretrained_model)\n",
    "#model.add(k.layers.Flatten())\n",
    "#model.add(k.layers.GlobalAveragePooling2D())\n",
    "#model.add(k.layers.Dense(1024, activation='relu'))\n",
    "model.add(k.layers.Dense(num_class, activation='softmax'))"
   ]
  },
  {
   "cell_type": "code",
   "execution_count": 24,
   "metadata": {},
   "outputs": [],
   "source": [
    "model.compile(loss='categorical_crossentropy', optimizer='adam', metrics=['accuracy'])"
   ]
  },
  {
   "cell_type": "code",
   "execution_count": 25,
   "metadata": {},
   "outputs": [
    {
     "name": "stdout",
     "output_type": "stream",
     "text": [
      "_________________________________________________________________\n",
      "Layer (type)                 Output Shape              Param #   \n",
      "=================================================================\n",
      "zero_padding2d_1 (ZeroPaddin (None, 224, 224, 3)       0         \n",
      "_________________________________________________________________\n",
      "resnet50 (Model)             (None, 1000)              23587712  \n",
      "_________________________________________________________________\n",
      "dense_1 (Dense)              (None, 10)                10010     \n",
      "=================================================================\n",
      "Total params: 23,597,722\n",
      "Trainable params: 8,941,338\n",
      "Non-trainable params: 14,656,384\n",
      "_________________________________________________________________\n"
     ]
    }
   ],
   "source": [
    "model.summary()"
   ]
  },
  {
   "cell_type": "code",
   "execution_count": 26,
   "metadata": {},
   "outputs": [
    {
     "name": "stdout",
     "output_type": "stream",
     "text": [
      "Input Shape = (None, 32, 32, 3)\n",
      "output Shape = (None, 10)\n"
     ]
    }
   ],
   "source": [
    "print('Input Shape = {}'.format(model.layers[0].input_shape))\n",
    "print('output Shape = {}'.format(model.layers[-1].output_shape))"
   ]
  },
  {
   "cell_type": "code",
   "execution_count": 27,
   "metadata": {},
   "outputs": [],
   "source": [
    "from keras.preprocessing.image import ImageDataGenerator"
   ]
  },
  {
   "cell_type": "code",
   "execution_count": 28,
   "metadata": {},
   "outputs": [],
   "source": [
    "train_datagen = ImageDataGenerator(rescale = 1./255,\n",
    "                                   shear_range = 0.2,\n",
    "                                   zoom_range = 0.2,\n",
    "                                   horizontal_flip = True)"
   ]
  },
  {
   "cell_type": "code",
   "execution_count": 29,
   "metadata": {},
   "outputs": [],
   "source": [
    "test_datagen = ImageDataGenerator(rescale = 1./255)"
   ]
  },
  {
   "cell_type": "code",
   "execution_count": 30,
   "metadata": {},
   "outputs": [],
   "source": [
    "training_set = train_datagen.flow(X_train, y_train, batch_size = 32)"
   ]
  },
  {
   "cell_type": "code",
   "execution_count": 31,
   "metadata": {},
   "outputs": [],
   "source": [
    "test_set = test_datagen.flow(X_test, y_test, batch_size = 32)"
   ]
  },
  {
   "cell_type": "code",
   "execution_count": 32,
   "metadata": {},
   "outputs": [
    {
     "data": {
      "text/plain": [
       "'2.2.4'"
      ]
     },
     "execution_count": 32,
     "metadata": {},
     "output_type": "execute_result"
    }
   ],
   "source": [
    "import keras\n",
    "keras.__version__"
   ]
  },
  {
   "cell_type": "code",
   "execution_count": 33,
   "metadata": {},
   "outputs": [
    {
     "name": "stdout",
     "output_type": "stream",
     "text": [
      "1250\n",
      "313\n"
     ]
    }
   ],
   "source": [
    "len_tr = len(training_set)\n",
    "len_te = len(test_set)\n",
    "print(len_tr)\n",
    "print(len_te)"
   ]
  },
  {
   "cell_type": "code",
   "execution_count": 34,
   "metadata": {},
   "outputs": [],
   "source": [
    "# model.fit_generator(training_set,\n",
    "#                          samples_per_epoch = len_tr,\n",
    "#                          nb_epoch = 25,\n",
    "#                          validation_data = test_set,\n",
    "#                          nb_val_samples = len_te)"
   ]
  },
  {
   "cell_type": "code",
   "execution_count": 35,
   "metadata": {},
   "outputs": [
    {
     "name": "stdout",
     "output_type": "stream",
     "text": [
      "WARNING:tensorflow:From /opt/conda/lib/python3.6/site-packages/tensorflow/python/ops/math_ops.py:3066: to_int32 (from tensorflow.python.ops.math_ops) is deprecated and will be removed in a future version.\n",
      "Instructions for updating:\n",
      "Use tf.cast instead.\n"
     ]
    },
    {
     "name": "stderr",
     "output_type": "stream",
     "text": [
      "/opt/conda/lib/python3.6/site-packages/ipykernel_launcher.py:3: UserWarning: The semantics of the Keras 2 argument `steps_per_epoch` is not the same as the Keras 1 argument `samples_per_epoch`. `steps_per_epoch` is the number of batches to draw from the generator at each epoch. Basically steps_per_epoch = samples_per_epoch/batch_size. Similarly `nb_val_samples`->`validation_steps` and `val_samples`->`steps` arguments have changed. Update your method calls accordingly.\n",
      "  This is separate from the ipykernel package so we can avoid doing imports until\n",
      "/opt/conda/lib/python3.6/site-packages/ipykernel_launcher.py:3: UserWarning: Update your `fit_generator` call to the Keras 2 API: `fit_generator(<keras_pre..., steps_per_epoch=39, epochs=300)`\n",
      "  This is separate from the ipykernel package so we can avoid doing imports until\n"
     ]
    },
    {
     "name": "stdout",
     "output_type": "stream",
     "text": [
      "Epoch 1/300\n",
      "39/39 [==============================] - 8s 205ms/step - loss: 2.2958 - acc: 0.1418\n",
      "Epoch 2/300\n",
      "39/39 [==============================] - 3s 75ms/step - loss: 2.2816 - acc: 0.2244\n",
      "Epoch 3/300\n",
      "39/39 [==============================] - 3s 75ms/step - loss: 2.2625 - acc: 0.2484\n",
      "Epoch 4/300\n",
      "39/39 [==============================] - 3s 76ms/step - loss: 2.2405 - acc: 0.2532\n",
      "Epoch 5/300\n",
      "39/39 [==============================] - 3s 76ms/step - loss: 2.2246 - acc: 0.2196\n",
      "Epoch 6/300\n",
      "39/39 [==============================] - 3s 76ms/step - loss: 2.2076 - acc: 0.2035\n",
      "Epoch 7/300\n",
      "39/39 [==============================] - 3s 76ms/step - loss: 2.1776 - acc: 0.2708\n",
      "Epoch 8/300\n",
      "39/39 [==============================] - 3s 76ms/step - loss: 2.1619 - acc: 0.2532\n",
      "Epoch 9/300\n",
      "39/39 [==============================] - 3s 76ms/step - loss: 2.1561 - acc: 0.2364\n",
      "Epoch 10/300\n",
      "39/39 [==============================] - 3s 76ms/step - loss: 2.1366 - acc: 0.2436\n",
      "Epoch 11/300\n",
      "39/39 [==============================] - 3s 76ms/step - loss: 2.1363 - acc: 0.2083\n",
      "Epoch 12/300\n",
      "39/39 [==============================] - 3s 76ms/step - loss: 2.1248 - acc: 0.2316\n",
      "Epoch 13/300\n",
      "39/39 [==============================] - 3s 76ms/step - loss: 2.0950 - acc: 0.2580\n",
      "Epoch 14/300\n",
      "39/39 [==============================] - 3s 76ms/step - loss: 2.1081 - acc: 0.2412\n",
      "Epoch 15/300\n",
      "39/39 [==============================] - 3s 75ms/step - loss: 2.0701 - acc: 0.2548\n",
      "Epoch 16/300\n",
      "39/39 [==============================] - 3s 76ms/step - loss: 2.0775 - acc: 0.2196\n",
      "Epoch 17/300\n",
      "39/39 [==============================] - 3s 76ms/step - loss: 2.0543 - acc: 0.2620\n",
      "Epoch 18/300\n",
      "39/39 [==============================] - 3s 76ms/step - loss: 2.0623 - acc: 0.2412\n",
      "Epoch 19/300\n",
      "39/39 [==============================] - 3s 75ms/step - loss: 2.0616 - acc: 0.2388\n",
      "Epoch 20/300\n",
      "39/39 [==============================] - 3s 76ms/step - loss: 2.0411 - acc: 0.2316\n",
      "Epoch 21/300\n",
      "39/39 [==============================] - 3s 76ms/step - loss: 2.0529 - acc: 0.2524\n",
      "Epoch 22/300\n",
      "39/39 [==============================] - 3s 75ms/step - loss: 2.0343 - acc: 0.2524\n",
      "Epoch 23/300\n",
      "39/39 [==============================] - 3s 76ms/step - loss: 2.0211 - acc: 0.2380\n",
      "Epoch 24/300\n",
      "39/39 [==============================] - 3s 76ms/step - loss: 2.0024 - acc: 0.2428\n",
      "Epoch 25/300\n",
      "39/39 [==============================] - 3s 76ms/step - loss: 1.9947 - acc: 0.2829\n",
      "Epoch 26/300\n",
      "39/39 [==============================] - 3s 76ms/step - loss: 1.9873 - acc: 0.2428\n",
      "Epoch 27/300\n",
      "39/39 [==============================] - 3s 75ms/step - loss: 2.0039 - acc: 0.2692\n",
      "Epoch 28/300\n",
      "39/39 [==============================] - 3s 76ms/step - loss: 1.9646 - acc: 0.2500\n",
      "Epoch 29/300\n",
      "39/39 [==============================] - 3s 76ms/step - loss: 1.9828 - acc: 0.2396\n",
      "Epoch 30/300\n",
      "39/39 [==============================] - 3s 76ms/step - loss: 1.9698 - acc: 0.2732\n",
      "Epoch 31/300\n",
      "39/39 [==============================] - 3s 79ms/step - loss: 1.9647 - acc: 0.2652\n",
      "Epoch 32/300\n",
      "39/39 [==============================] - 3s 77ms/step - loss: 1.9695 - acc: 0.2644\n",
      "Epoch 33/300\n",
      "39/39 [==============================] - 3s 76ms/step - loss: 1.9700 - acc: 0.2620\n",
      "Epoch 34/300\n",
      "39/39 [==============================] - 3s 76ms/step - loss: 1.9470 - acc: 0.2532\n",
      "Epoch 35/300\n",
      "39/39 [==============================] - 3s 76ms/step - loss: 1.9469 - acc: 0.2460\n",
      "Epoch 36/300\n",
      "39/39 [==============================] - 3s 76ms/step - loss: 1.9194 - acc: 0.2708\n",
      "Epoch 37/300\n",
      "39/39 [==============================] - 3s 76ms/step - loss: 1.9097 - acc: 0.2644\n",
      "Epoch 38/300\n",
      "39/39 [==============================] - 3s 77ms/step - loss: 1.9320 - acc: 0.2612\n",
      "Epoch 39/300\n",
      "39/39 [==============================] - 3s 76ms/step - loss: 1.9205 - acc: 0.2740\n",
      "Epoch 40/300\n",
      "39/39 [==============================] - 3s 76ms/step - loss: 1.8842 - acc: 0.2668\n",
      "Epoch 41/300\n",
      "39/39 [==============================] - 3s 76ms/step - loss: 1.8884 - acc: 0.2692\n",
      "Epoch 42/300\n",
      "39/39 [==============================] - 3s 75ms/step - loss: 1.9118 - acc: 0.2708\n",
      "Epoch 43/300\n",
      "39/39 [==============================] - 3s 75ms/step - loss: 1.8951 - acc: 0.2668\n",
      "Epoch 44/300\n",
      "39/39 [==============================] - 3s 76ms/step - loss: 1.8854 - acc: 0.2716\n",
      "Epoch 45/300\n",
      "39/39 [==============================] - 3s 75ms/step - loss: 1.9080 - acc: 0.2628\n",
      "Epoch 46/300\n",
      "39/39 [==============================] - 3s 76ms/step - loss: 1.8592 - acc: 0.2861\n",
      "Epoch 47/300\n",
      "39/39 [==============================] - 3s 76ms/step - loss: 1.8846 - acc: 0.2564\n",
      "Epoch 48/300\n",
      "39/39 [==============================] - 3s 76ms/step - loss: 1.8708 - acc: 0.2845\n",
      "Epoch 49/300\n",
      "39/39 [==============================] - 3s 76ms/step - loss: 1.9027 - acc: 0.2604\n",
      "Epoch 50/300\n",
      "39/39 [==============================] - 3s 76ms/step - loss: 1.9034 - acc: 0.2644\n",
      "Epoch 51/300\n",
      "39/39 [==============================] - 3s 75ms/step - loss: 1.8748 - acc: 0.2804\n",
      "Epoch 52/300\n",
      "39/39 [==============================] - 3s 75ms/step - loss: 1.9040 - acc: 0.2604\n",
      "Epoch 53/300\n",
      "39/39 [==============================] - 3s 75ms/step - loss: 1.8460 - acc: 0.2917\n",
      "Epoch 54/300\n",
      "39/39 [==============================] - 3s 76ms/step - loss: 1.8285 - acc: 0.3021\n",
      "Epoch 55/300\n",
      "39/39 [==============================] - 3s 76ms/step - loss: 1.8514 - acc: 0.2796\n",
      "Epoch 56/300\n",
      "39/39 [==============================] - 3s 76ms/step - loss: 1.8508 - acc: 0.2708\n",
      "Epoch 57/300\n",
      "39/39 [==============================] - 3s 76ms/step - loss: 1.8615 - acc: 0.2780\n",
      "Epoch 58/300\n",
      "39/39 [==============================] - 3s 76ms/step - loss: 1.8923 - acc: 0.2652\n",
      "Epoch 59/300\n",
      "39/39 [==============================] - 3s 76ms/step - loss: 1.8516 - acc: 0.3029\n",
      "Epoch 60/300\n",
      "39/39 [==============================] - 3s 76ms/step - loss: 1.8405 - acc: 0.2780\n",
      "Epoch 61/300\n",
      "39/39 [==============================] - 3s 76ms/step - loss: 1.8431 - acc: 0.2837\n",
      "Epoch 62/300\n",
      "39/39 [==============================] - 3s 75ms/step - loss: 1.8222 - acc: 0.2829\n",
      "Epoch 63/300\n",
      "39/39 [==============================] - 3s 76ms/step - loss: 1.8124 - acc: 0.3141\n",
      "Epoch 64/300\n",
      "39/39 [==============================] - 3s 76ms/step - loss: 1.8565 - acc: 0.2716\n",
      "Epoch 65/300\n",
      "39/39 [==============================] - 3s 76ms/step - loss: 1.8370 - acc: 0.2853\n",
      "Epoch 66/300\n",
      "39/39 [==============================] - 3s 75ms/step - loss: 1.8258 - acc: 0.2845\n",
      "Epoch 67/300\n",
      "39/39 [==============================] - 3s 75ms/step - loss: 1.8277 - acc: 0.2957\n",
      "Epoch 68/300\n",
      "39/39 [==============================] - 3s 76ms/step - loss: 1.8219 - acc: 0.3093\n",
      "Epoch 69/300\n",
      "39/39 [==============================] - 3s 76ms/step - loss: 1.8259 - acc: 0.2965\n",
      "Epoch 70/300\n",
      "39/39 [==============================] - 3s 76ms/step - loss: 1.8034 - acc: 0.2837\n",
      "Epoch 71/300\n",
      "39/39 [==============================] - 3s 75ms/step - loss: 1.7970 - acc: 0.2989\n",
      "Epoch 72/300\n",
      "39/39 [==============================] - 3s 76ms/step - loss: 1.8537 - acc: 0.2949\n",
      "Epoch 73/300\n",
      "39/39 [==============================] - 3s 76ms/step - loss: 1.8155 - acc: 0.3037\n",
      "Epoch 74/300\n",
      "39/39 [==============================] - 3s 76ms/step - loss: 1.8188 - acc: 0.2973\n",
      "Epoch 75/300\n",
      "39/39 [==============================] - 3s 76ms/step - loss: 1.7898 - acc: 0.2965\n",
      "Epoch 76/300\n",
      "39/39 [==============================] - 3s 76ms/step - loss: 1.8461 - acc: 0.2596\n",
      "Epoch 77/300\n",
      "39/39 [==============================] - 3s 76ms/step - loss: 1.7796 - acc: 0.2973\n",
      "Epoch 78/300\n",
      "39/39 [==============================] - 3s 76ms/step - loss: 1.7884 - acc: 0.3093\n",
      "Epoch 79/300\n",
      "39/39 [==============================] - 3s 76ms/step - loss: 1.7697 - acc: 0.3053\n",
      "Epoch 80/300\n",
      "39/39 [==============================] - 3s 75ms/step - loss: 1.7813 - acc: 0.2893\n",
      "Epoch 81/300\n",
      "39/39 [==============================] - 3s 75ms/step - loss: 1.7830 - acc: 0.3069\n",
      "Epoch 82/300\n",
      "39/39 [==============================] - 3s 76ms/step - loss: 1.7503 - acc: 0.3021\n",
      "Epoch 83/300\n",
      "39/39 [==============================] - 3s 76ms/step - loss: 1.8055 - acc: 0.2732\n",
      "Epoch 84/300\n",
      "39/39 [==============================] - 3s 77ms/step - loss: 1.7797 - acc: 0.3133\n",
      "Epoch 85/300\n",
      "39/39 [==============================] - 3s 76ms/step - loss: 1.7643 - acc: 0.3349\n",
      "Epoch 86/300\n",
      "39/39 [==============================] - 3s 76ms/step - loss: 1.7695 - acc: 0.3413\n",
      "Epoch 87/300\n",
      "39/39 [==============================] - 3s 76ms/step - loss: 1.8060 - acc: 0.3077\n",
      "Epoch 88/300\n",
      "39/39 [==============================] - 3s 76ms/step - loss: 1.7953 - acc: 0.3141\n",
      "Epoch 89/300\n",
      "39/39 [==============================] - 3s 76ms/step - loss: 1.7835 - acc: 0.3301\n",
      "Epoch 90/300\n",
      "39/39 [==============================] - 3s 76ms/step - loss: 1.7694 - acc: 0.3317\n",
      "Epoch 91/300\n",
      "39/39 [==============================] - 3s 76ms/step - loss: 1.7123 - acc: 0.3558\n",
      "Epoch 92/300\n",
      "39/39 [==============================] - 3s 76ms/step - loss: 1.7453 - acc: 0.3349\n",
      "Epoch 93/300\n",
      "39/39 [==============================] - 3s 76ms/step - loss: 1.7435 - acc: 0.3534\n",
      "Epoch 94/300\n",
      "39/39 [==============================] - 3s 76ms/step - loss: 1.7060 - acc: 0.3710\n",
      "Epoch 95/300\n",
      "39/39 [==============================] - 3s 76ms/step - loss: 1.7419 - acc: 0.3478\n",
      "Epoch 96/300\n",
      "39/39 [==============================] - 3s 75ms/step - loss: 1.7235 - acc: 0.3397\n",
      "Epoch 97/300\n",
      "39/39 [==============================] - 3s 76ms/step - loss: 1.6929 - acc: 0.3606\n",
      "Epoch 98/300\n",
      "39/39 [==============================] - 3s 75ms/step - loss: 1.6880 - acc: 0.3750\n",
      "Epoch 99/300\n",
      "39/39 [==============================] - 3s 76ms/step - loss: 1.7303 - acc: 0.3325\n",
      "Epoch 100/300\n",
      "39/39 [==============================] - 3s 77ms/step - loss: 1.6935 - acc: 0.3550\n",
      "Epoch 101/300\n",
      "39/39 [==============================] - 3s 75ms/step - loss: 1.7168 - acc: 0.3678\n",
      "Epoch 102/300\n",
      "39/39 [==============================] - 3s 76ms/step - loss: 1.6857 - acc: 0.3758\n",
      "Epoch 103/300\n",
      "39/39 [==============================] - 3s 75ms/step - loss: 1.6837 - acc: 0.3918\n",
      "Epoch 104/300\n",
      "39/39 [==============================] - 3s 77ms/step - loss: 1.7062 - acc: 0.3958\n",
      "Epoch 105/300\n",
      "39/39 [==============================] - 3s 76ms/step - loss: 1.7162 - acc: 0.3526\n",
      "Epoch 106/300\n",
      "39/39 [==============================] - 3s 75ms/step - loss: 1.6824 - acc: 0.3574\n",
      "Epoch 107/300\n",
      "39/39 [==============================] - 3s 76ms/step - loss: 1.7173 - acc: 0.3806\n",
      "Epoch 108/300\n",
      "39/39 [==============================] - 3s 76ms/step - loss: 1.6744 - acc: 0.3854\n",
      "Epoch 109/300\n",
      "39/39 [==============================] - 3s 76ms/step - loss: 1.6454 - acc: 0.4030\n",
      "Epoch 110/300\n",
      "39/39 [==============================] - 3s 76ms/step - loss: 1.6615 - acc: 0.3694\n",
      "Epoch 111/300\n",
      "39/39 [==============================] - 3s 76ms/step - loss: 1.6549 - acc: 0.4006\n",
      "Epoch 112/300\n",
      "39/39 [==============================] - 3s 76ms/step - loss: 1.6756 - acc: 0.3830\n",
      "Epoch 113/300\n",
      "39/39 [==============================] - 3s 76ms/step - loss: 1.6389 - acc: 0.3974\n",
      "Epoch 114/300\n",
      "39/39 [==============================] - 3s 76ms/step - loss: 1.6441 - acc: 0.3894\n",
      "Epoch 115/300\n",
      "39/39 [==============================] - 3s 75ms/step - loss: 1.6357 - acc: 0.3894\n",
      "Epoch 116/300\n",
      "39/39 [==============================] - 3s 76ms/step - loss: 1.6438 - acc: 0.4054\n",
      "Epoch 117/300\n",
      "39/39 [==============================] - 3s 76ms/step - loss: 1.6136 - acc: 0.4175\n",
      "Epoch 118/300\n",
      "39/39 [==============================] - 3s 76ms/step - loss: 1.6153 - acc: 0.4199\n",
      "Epoch 119/300\n",
      "39/39 [==============================] - 3s 76ms/step - loss: 1.6626 - acc: 0.3670\n",
      "Epoch 120/300\n",
      "39/39 [==============================] - 3s 76ms/step - loss: 1.6034 - acc: 0.4343\n",
      "Epoch 121/300\n",
      "39/39 [==============================] - 3s 76ms/step - loss: 1.5932 - acc: 0.4199\n",
      "Epoch 122/300\n",
      "39/39 [==============================] - 3s 76ms/step - loss: 1.6124 - acc: 0.4071\n",
      "Epoch 123/300\n",
      "39/39 [==============================] - 3s 76ms/step - loss: 1.5842 - acc: 0.4247\n",
      "Epoch 124/300\n",
      "39/39 [==============================] - 3s 75ms/step - loss: 1.5938 - acc: 0.4167\n",
      "Epoch 125/300\n",
      "39/39 [==============================] - 3s 76ms/step - loss: 1.6097 - acc: 0.4255\n",
      "Epoch 126/300\n",
      "39/39 [==============================] - 3s 76ms/step - loss: 1.5706 - acc: 0.4167\n",
      "Epoch 127/300\n",
      "39/39 [==============================] - 3s 76ms/step - loss: 1.5783 - acc: 0.4271\n",
      "Epoch 128/300\n",
      "39/39 [==============================] - 3s 76ms/step - loss: 1.5658 - acc: 0.4119\n",
      "Epoch 129/300\n",
      "39/39 [==============================] - 3s 75ms/step - loss: 1.5815 - acc: 0.4255\n",
      "Epoch 130/300\n",
      "39/39 [==============================] - 3s 75ms/step - loss: 1.5832 - acc: 0.4183\n",
      "Epoch 131/300\n",
      "39/39 [==============================] - 3s 76ms/step - loss: 1.5549 - acc: 0.4447\n",
      "Epoch 132/300\n",
      "39/39 [==============================] - 3s 76ms/step - loss: 1.5738 - acc: 0.4175\n",
      "Epoch 133/300\n",
      "39/39 [==============================] - 3s 76ms/step - loss: 1.5806 - acc: 0.4359\n",
      "Epoch 134/300\n",
      "39/39 [==============================] - 3s 76ms/step - loss: 1.5640 - acc: 0.4247\n",
      "Epoch 135/300\n",
      "39/39 [==============================] - 3s 76ms/step - loss: 1.5398 - acc: 0.4207\n",
      "Epoch 136/300\n",
      "39/39 [==============================] - 3s 76ms/step - loss: 1.5327 - acc: 0.4231\n",
      "Epoch 137/300\n",
      "39/39 [==============================] - 3s 76ms/step - loss: 1.5249 - acc: 0.4375\n",
      "Epoch 138/300\n",
      "39/39 [==============================] - 3s 75ms/step - loss: 1.5315 - acc: 0.4335\n",
      "Epoch 139/300\n",
      "39/39 [==============================] - 3s 76ms/step - loss: 1.5635 - acc: 0.4279\n",
      "Epoch 140/300\n",
      "39/39 [==============================] - 3s 75ms/step - loss: 1.5162 - acc: 0.4383\n",
      "Epoch 141/300\n",
      "39/39 [==============================] - 3s 77ms/step - loss: 1.5702 - acc: 0.4359\n",
      "Epoch 142/300\n",
      "39/39 [==============================] - 3s 76ms/step - loss: 1.5538 - acc: 0.4303\n",
      "Epoch 143/300\n",
      "39/39 [==============================] - 3s 76ms/step - loss: 1.5406 - acc: 0.4175\n",
      "Epoch 144/300\n",
      "39/39 [==============================] - 3s 77ms/step - loss: 1.5377 - acc: 0.4415\n",
      "Epoch 145/300\n",
      "39/39 [==============================] - 3s 76ms/step - loss: 1.5544 - acc: 0.4199\n",
      "Epoch 146/300\n",
      "39/39 [==============================] - 3s 75ms/step - loss: 1.5289 - acc: 0.4359\n",
      "Epoch 147/300\n",
      "39/39 [==============================] - 3s 76ms/step - loss: 1.5167 - acc: 0.4535\n",
      "Epoch 148/300\n",
      "39/39 [==============================] - 3s 76ms/step - loss: 1.5612 - acc: 0.4327\n",
      "Epoch 149/300\n",
      "39/39 [==============================] - 3s 76ms/step - loss: 1.5054 - acc: 0.4183\n",
      "Epoch 150/300\n",
      "39/39 [==============================] - 3s 76ms/step - loss: 1.5228 - acc: 0.4527\n",
      "Epoch 151/300\n",
      "39/39 [==============================] - 3s 76ms/step - loss: 1.5440 - acc: 0.4095\n",
      "Epoch 152/300\n",
      "39/39 [==============================] - 3s 75ms/step - loss: 1.5324 - acc: 0.4151\n",
      "Epoch 153/300\n",
      "39/39 [==============================] - 3s 76ms/step - loss: 1.4981 - acc: 0.4591\n",
      "Epoch 154/300\n",
      "39/39 [==============================] - 3s 76ms/step - loss: 1.5064 - acc: 0.4583\n",
      "Epoch 155/300\n",
      "39/39 [==============================] - 3s 76ms/step - loss: 1.4596 - acc: 0.4423\n",
      "Epoch 156/300\n",
      "39/39 [==============================] - 3s 76ms/step - loss: 1.5143 - acc: 0.4688\n",
      "Epoch 157/300\n",
      "39/39 [==============================] - 3s 76ms/step - loss: 1.4936 - acc: 0.4567\n",
      "Epoch 158/300\n",
      "39/39 [==============================] - 3s 76ms/step - loss: 1.5439 - acc: 0.4215\n",
      "Epoch 159/300\n",
      "39/39 [==============================] - 3s 76ms/step - loss: 1.5121 - acc: 0.4327\n",
      "Epoch 160/300\n",
      "39/39 [==============================] - 3s 77ms/step - loss: 1.4766 - acc: 0.4575\n",
      "Epoch 161/300\n",
      "39/39 [==============================] - 3s 76ms/step - loss: 1.4993 - acc: 0.4543\n",
      "Epoch 162/300\n",
      "39/39 [==============================] - 3s 76ms/step - loss: 1.4453 - acc: 0.4623\n",
      "Epoch 163/300\n",
      "39/39 [==============================] - 3s 75ms/step - loss: 1.5184 - acc: 0.4311\n",
      "Epoch 164/300\n",
      "39/39 [==============================] - 3s 76ms/step - loss: 1.5221 - acc: 0.4255\n",
      "Epoch 165/300\n",
      "39/39 [==============================] - 3s 75ms/step - loss: 1.4481 - acc: 0.4704\n",
      "Epoch 166/300\n",
      "39/39 [==============================] - 3s 76ms/step - loss: 1.4539 - acc: 0.4671\n",
      "Epoch 167/300\n",
      "39/39 [==============================] - 3s 76ms/step - loss: 1.4301 - acc: 0.4776\n",
      "Epoch 168/300\n",
      "39/39 [==============================] - 3s 76ms/step - loss: 1.4784 - acc: 0.4623\n",
      "Epoch 169/300\n",
      "39/39 [==============================] - 3s 75ms/step - loss: 1.4674 - acc: 0.4647\n",
      "Epoch 170/300\n",
      "39/39 [==============================] - 3s 75ms/step - loss: 1.5217 - acc: 0.4399\n",
      "Epoch 171/300\n",
      "39/39 [==============================] - 3s 76ms/step - loss: 1.4882 - acc: 0.4423\n",
      "Epoch 172/300\n",
      "39/39 [==============================] - 3s 76ms/step - loss: 1.4379 - acc: 0.4704\n",
      "Epoch 173/300\n",
      "39/39 [==============================] - 3s 75ms/step - loss: 1.4416 - acc: 0.4591\n",
      "Epoch 174/300\n",
      "39/39 [==============================] - 3s 76ms/step - loss: 1.4624 - acc: 0.4712\n",
      "Epoch 175/300\n",
      "39/39 [==============================] - 3s 76ms/step - loss: 1.4403 - acc: 0.4728\n",
      "Epoch 176/300\n",
      "39/39 [==============================] - 3s 76ms/step - loss: 1.4682 - acc: 0.4447\n",
      "Epoch 177/300\n",
      "39/39 [==============================] - 3s 75ms/step - loss: 1.4547 - acc: 0.4864\n",
      "Epoch 178/300\n",
      "39/39 [==============================] - 3s 75ms/step - loss: 1.4844 - acc: 0.4479\n",
      "Epoch 179/300\n",
      "39/39 [==============================] - 3s 76ms/step - loss: 1.4634 - acc: 0.4840\n",
      "Epoch 180/300\n",
      "39/39 [==============================] - 3s 75ms/step - loss: 1.4988 - acc: 0.4327\n",
      "Epoch 181/300\n",
      "39/39 [==============================] - 3s 76ms/step - loss: 1.4545 - acc: 0.4519\n",
      "Epoch 182/300\n",
      "39/39 [==============================] - 3s 76ms/step - loss: 1.5006 - acc: 0.4503\n",
      "Epoch 183/300\n",
      "39/39 [==============================] - 3s 76ms/step - loss: 1.4394 - acc: 0.4752\n",
      "Epoch 184/300\n",
      "39/39 [==============================] - 3s 76ms/step - loss: 1.4519 - acc: 0.4808\n",
      "Epoch 185/300\n",
      "39/39 [==============================] - 3s 76ms/step - loss: 1.4646 - acc: 0.4712\n",
      "Epoch 186/300\n",
      "39/39 [==============================] - 3s 76ms/step - loss: 1.4780 - acc: 0.4471\n",
      "Epoch 187/300\n",
      "39/39 [==============================] - 3s 76ms/step - loss: 1.4795 - acc: 0.4543\n",
      "Epoch 188/300\n",
      "39/39 [==============================] - 3s 76ms/step - loss: 1.4197 - acc: 0.4864\n",
      "Epoch 189/300\n",
      "39/39 [==============================] - 3s 77ms/step - loss: 1.4334 - acc: 0.4639\n",
      "Epoch 190/300\n",
      "39/39 [==============================] - 3s 76ms/step - loss: 1.4712 - acc: 0.4696\n",
      "Epoch 191/300\n",
      "39/39 [==============================] - 3s 76ms/step - loss: 1.4618 - acc: 0.4623\n",
      "Epoch 192/300\n",
      "39/39 [==============================] - 3s 77ms/step - loss: 1.4418 - acc: 0.4728\n",
      "Epoch 193/300\n",
      "39/39 [==============================] - 3s 75ms/step - loss: 1.4616 - acc: 0.4720\n",
      "Epoch 194/300\n",
      "39/39 [==============================] - 3s 76ms/step - loss: 1.4589 - acc: 0.4559\n",
      "Epoch 195/300\n",
      "39/39 [==============================] - 3s 76ms/step - loss: 1.4501 - acc: 0.4527\n",
      "Epoch 196/300\n",
      "39/39 [==============================] - 3s 76ms/step - loss: 1.4279 - acc: 0.4696\n",
      "Epoch 197/300\n",
      "39/39 [==============================] - 3s 77ms/step - loss: 1.4122 - acc: 0.4840\n",
      "Epoch 198/300\n",
      "39/39 [==============================] - 3s 76ms/step - loss: 1.4393 - acc: 0.4744\n",
      "Epoch 199/300\n",
      "39/39 [==============================] - 3s 76ms/step - loss: 1.4393 - acc: 0.4607\n",
      "Epoch 200/300\n",
      "39/39 [==============================] - 3s 77ms/step - loss: 1.4206 - acc: 0.4872\n",
      "Epoch 201/300\n",
      "39/39 [==============================] - 3s 75ms/step - loss: 1.4279 - acc: 0.4856\n",
      "Epoch 202/300\n",
      "39/39 [==============================] - 3s 76ms/step - loss: 1.4287 - acc: 0.4808\n",
      "Epoch 203/300\n",
      "39/39 [==============================] - 3s 75ms/step - loss: 1.4420 - acc: 0.4615\n",
      "Epoch 204/300\n",
      "39/39 [==============================] - 3s 75ms/step - loss: 1.4325 - acc: 0.4856\n",
      "Epoch 205/300\n",
      "39/39 [==============================] - 3s 76ms/step - loss: 1.3867 - acc: 0.4968\n",
      "Epoch 206/300\n",
      "39/39 [==============================] - 3s 77ms/step - loss: 1.3908 - acc: 0.4696\n",
      "Epoch 207/300\n",
      "39/39 [==============================] - 3s 76ms/step - loss: 1.4077 - acc: 0.4968\n",
      "Epoch 208/300\n",
      "39/39 [==============================] - 3s 76ms/step - loss: 1.4362 - acc: 0.4704\n",
      "Epoch 209/300\n",
      "39/39 [==============================] - 3s 76ms/step - loss: 1.4084 - acc: 0.4639\n",
      "Epoch 210/300\n",
      "39/39 [==============================] - 3s 75ms/step - loss: 1.3726 - acc: 0.5000\n",
      "Epoch 211/300\n",
      "39/39 [==============================] - 3s 76ms/step - loss: 1.4255 - acc: 0.4736\n",
      "Epoch 212/300\n",
      "39/39 [==============================] - 3s 76ms/step - loss: 1.4250 - acc: 0.4888\n",
      "Epoch 213/300\n",
      "39/39 [==============================] - 3s 76ms/step - loss: 1.3627 - acc: 0.5024\n",
      "Epoch 214/300\n",
      "39/39 [==============================] - 3s 76ms/step - loss: 1.4008 - acc: 0.4968\n",
      "Epoch 215/300\n",
      "39/39 [==============================] - 3s 76ms/step - loss: 1.3809 - acc: 0.4848\n",
      "Epoch 216/300\n",
      "39/39 [==============================] - 3s 76ms/step - loss: 1.4399 - acc: 0.4768\n",
      "Epoch 217/300\n",
      "39/39 [==============================] - 3s 76ms/step - loss: 1.3752 - acc: 0.5048\n",
      "Epoch 218/300\n",
      "39/39 [==============================] - 3s 76ms/step - loss: 1.3677 - acc: 0.5032\n",
      "Epoch 219/300\n",
      "39/39 [==============================] - 3s 76ms/step - loss: 1.4422 - acc: 0.4704\n",
      "Epoch 220/300\n",
      "39/39 [==============================] - 3s 76ms/step - loss: 1.3931 - acc: 0.4968\n",
      "Epoch 221/300\n",
      "39/39 [==============================] - 3s 76ms/step - loss: 1.4454 - acc: 0.4864\n",
      "Epoch 222/300\n",
      "39/39 [==============================] - 3s 76ms/step - loss: 1.3911 - acc: 0.4768\n",
      "Epoch 223/300\n",
      "39/39 [==============================] - 3s 76ms/step - loss: 1.3695 - acc: 0.4968\n",
      "Epoch 224/300\n",
      "39/39 [==============================] - 3s 76ms/step - loss: 1.3999 - acc: 0.4912\n",
      "Epoch 225/300\n",
      "39/39 [==============================] - 3s 75ms/step - loss: 1.4602 - acc: 0.4631\n",
      "Epoch 226/300\n",
      "39/39 [==============================] - 3s 75ms/step - loss: 1.3767 - acc: 0.4864\n",
      "Epoch 227/300\n",
      "39/39 [==============================] - 3s 76ms/step - loss: 1.3566 - acc: 0.5104\n",
      "Epoch 228/300\n",
      "39/39 [==============================] - 3s 76ms/step - loss: 1.4295 - acc: 0.4784\n",
      "Epoch 229/300\n",
      "39/39 [==============================] - 3s 77ms/step - loss: 1.3867 - acc: 0.4896\n",
      "Epoch 230/300\n",
      "39/39 [==============================] - 3s 76ms/step - loss: 1.3559 - acc: 0.5120\n",
      "Epoch 231/300\n",
      "39/39 [==============================] - 3s 76ms/step - loss: 1.3678 - acc: 0.4896\n",
      "Epoch 232/300\n",
      "39/39 [==============================] - 3s 75ms/step - loss: 1.3821 - acc: 0.5096\n",
      "Epoch 233/300\n",
      "39/39 [==============================] - 3s 76ms/step - loss: 1.4466 - acc: 0.4888\n",
      "Epoch 234/300\n",
      "39/39 [==============================] - 3s 77ms/step - loss: 1.4060 - acc: 0.4888\n",
      "Epoch 235/300\n",
      "39/39 [==============================] - 3s 75ms/step - loss: 1.4195 - acc: 0.4984\n",
      "Epoch 236/300\n",
      "39/39 [==============================] - 3s 76ms/step - loss: 1.3605 - acc: 0.5112\n",
      "Epoch 237/300\n",
      "39/39 [==============================] - 3s 76ms/step - loss: 1.4053 - acc: 0.4776\n",
      "Epoch 238/300\n",
      "39/39 [==============================] - 3s 76ms/step - loss: 1.3736 - acc: 0.5168\n",
      "Epoch 239/300\n",
      "39/39 [==============================] - 3s 77ms/step - loss: 1.3536 - acc: 0.5144\n",
      "Epoch 240/300\n",
      "39/39 [==============================] - 3s 76ms/step - loss: 1.4052 - acc: 0.4776\n",
      "Epoch 241/300\n",
      "39/39 [==============================] - 3s 77ms/step - loss: 1.3538 - acc: 0.5168\n",
      "Epoch 242/300\n",
      "39/39 [==============================] - 3s 76ms/step - loss: 1.3505 - acc: 0.5080\n",
      "Epoch 243/300\n",
      "39/39 [==============================] - 3s 75ms/step - loss: 1.3958 - acc: 0.5040\n",
      "Epoch 244/300\n",
      "39/39 [==============================] - 3s 76ms/step - loss: 1.3485 - acc: 0.4864\n",
      "Epoch 245/300\n",
      "39/39 [==============================] - 3s 76ms/step - loss: 1.4006 - acc: 0.4936\n",
      "Epoch 246/300\n",
      "39/39 [==============================] - 3s 76ms/step - loss: 1.3902 - acc: 0.4848\n",
      "Epoch 247/300\n",
      "39/39 [==============================] - 3s 76ms/step - loss: 1.3550 - acc: 0.5192\n",
      "Epoch 248/300\n",
      "39/39 [==============================] - 3s 75ms/step - loss: 1.3860 - acc: 0.5040\n",
      "Epoch 249/300\n",
      "39/39 [==============================] - 3s 76ms/step - loss: 1.3473 - acc: 0.5088\n",
      "Epoch 250/300\n",
      "39/39 [==============================] - 3s 75ms/step - loss: 1.3644 - acc: 0.4936\n",
      "Epoch 251/300\n",
      "39/39 [==============================] - 3s 75ms/step - loss: 1.3455 - acc: 0.4952\n",
      "Epoch 252/300\n",
      "39/39 [==============================] - 3s 75ms/step - loss: 1.3583 - acc: 0.5024\n",
      "Epoch 253/300\n",
      "39/39 [==============================] - 3s 76ms/step - loss: 1.3846 - acc: 0.5136\n",
      "Epoch 254/300\n",
      "39/39 [==============================] - 3s 76ms/step - loss: 1.3858 - acc: 0.4760\n",
      "Epoch 255/300\n",
      "39/39 [==============================] - 3s 76ms/step - loss: 1.3886 - acc: 0.5048\n",
      "Epoch 256/300\n",
      "39/39 [==============================] - 3s 76ms/step - loss: 1.3379 - acc: 0.5120\n",
      "Epoch 257/300\n",
      "39/39 [==============================] - 3s 77ms/step - loss: 1.3652 - acc: 0.5160\n",
      "Epoch 258/300\n",
      "39/39 [==============================] - 3s 76ms/step - loss: 1.3250 - acc: 0.5248\n",
      "Epoch 259/300\n",
      "39/39 [==============================] - 3s 76ms/step - loss: 1.3324 - acc: 0.5040\n",
      "Epoch 260/300\n",
      "39/39 [==============================] - 3s 76ms/step - loss: 1.3639 - acc: 0.5208\n",
      "Epoch 261/300\n",
      "39/39 [==============================] - 3s 77ms/step - loss: 1.4001 - acc: 0.4864\n",
      "Epoch 262/300\n",
      "39/39 [==============================] - 3s 76ms/step - loss: 1.2913 - acc: 0.5256\n",
      "Epoch 263/300\n",
      "39/39 [==============================] - 3s 76ms/step - loss: 1.3833 - acc: 0.4944\n",
      "Epoch 264/300\n",
      "39/39 [==============================] - 3s 77ms/step - loss: 1.3767 - acc: 0.5176\n",
      "Epoch 265/300\n",
      "39/39 [==============================] - 3s 76ms/step - loss: 1.3220 - acc: 0.5192\n",
      "Epoch 266/300\n",
      "39/39 [==============================] - 3s 76ms/step - loss: 1.3721 - acc: 0.5224\n",
      "Epoch 267/300\n",
      "39/39 [==============================] - 3s 76ms/step - loss: 1.3667 - acc: 0.4792\n",
      "Epoch 268/300\n",
      "39/39 [==============================] - 3s 75ms/step - loss: 1.3412 - acc: 0.5321\n",
      "Epoch 269/300\n",
      "39/39 [==============================] - 3s 76ms/step - loss: 1.3612 - acc: 0.5192\n",
      "Epoch 270/300\n",
      "39/39 [==============================] - 3s 75ms/step - loss: 1.3200 - acc: 0.5248\n",
      "Epoch 271/300\n",
      "39/39 [==============================] - 3s 76ms/step - loss: 1.3514 - acc: 0.4880\n",
      "Epoch 272/300\n",
      "39/39 [==============================] - 3s 76ms/step - loss: 1.3401 - acc: 0.4960\n",
      "Epoch 273/300\n",
      "39/39 [==============================] - 3s 76ms/step - loss: 1.3494 - acc: 0.5256\n",
      "Epoch 274/300\n",
      "39/39 [==============================] - 3s 75ms/step - loss: 1.3738 - acc: 0.4984\n",
      "Epoch 275/300\n",
      "39/39 [==============================] - 3s 77ms/step - loss: 1.3811 - acc: 0.5032\n",
      "Epoch 276/300\n",
      "39/39 [==============================] - 3s 76ms/step - loss: 1.3751 - acc: 0.4888\n",
      "Epoch 277/300\n",
      "39/39 [==============================] - 3s 76ms/step - loss: 1.3356 - acc: 0.5248\n",
      "Epoch 278/300\n",
      "39/39 [==============================] - 3s 77ms/step - loss: 1.3226 - acc: 0.5072\n",
      "Epoch 279/300\n",
      "39/39 [==============================] - 3s 76ms/step - loss: 1.3440 - acc: 0.5136\n",
      "Epoch 280/300\n",
      "39/39 [==============================] - 3s 76ms/step - loss: 1.3276 - acc: 0.5296\n",
      "Epoch 281/300\n",
      "39/39 [==============================] - 3s 76ms/step - loss: 1.3263 - acc: 0.5160\n",
      "Epoch 282/300\n",
      "39/39 [==============================] - 3s 76ms/step - loss: 1.3276 - acc: 0.5152\n",
      "Epoch 283/300\n",
      "39/39 [==============================] - 3s 76ms/step - loss: 1.3009 - acc: 0.5216\n",
      "Epoch 284/300\n",
      "39/39 [==============================] - 3s 76ms/step - loss: 1.3854 - acc: 0.5312\n",
      "Epoch 285/300\n",
      "39/39 [==============================] - 3s 76ms/step - loss: 1.3304 - acc: 0.5409\n",
      "Epoch 286/300\n",
      "39/39 [==============================] - 3s 76ms/step - loss: 1.2941 - acc: 0.5425\n",
      "Epoch 287/300\n",
      "39/39 [==============================] - 3s 75ms/step - loss: 1.2850 - acc: 0.5184\n",
      "Epoch 288/300\n",
      "39/39 [==============================] - 3s 77ms/step - loss: 1.3464 - acc: 0.5096\n",
      "Epoch 289/300\n",
      "39/39 [==============================] - 3s 76ms/step - loss: 1.3075 - acc: 0.5312\n",
      "Epoch 290/300\n",
      "39/39 [==============================] - 3s 75ms/step - loss: 1.3571 - acc: 0.5248\n",
      "Epoch 291/300\n",
      "39/39 [==============================] - 3s 76ms/step - loss: 1.3425 - acc: 0.5168\n",
      "Epoch 292/300\n",
      "39/39 [==============================] - 3s 76ms/step - loss: 1.3464 - acc: 0.5240\n",
      "Epoch 293/300\n",
      "39/39 [==============================] - 3s 77ms/step - loss: 1.3334 - acc: 0.5256\n",
      "Epoch 294/300\n",
      "39/39 [==============================] - 3s 76ms/step - loss: 1.3069 - acc: 0.5224\n",
      "Epoch 295/300\n",
      "39/39 [==============================] - 3s 78ms/step - loss: 1.3660 - acc: 0.5264\n",
      "Epoch 296/300\n",
      "39/39 [==============================] - 3s 76ms/step - loss: 1.3431 - acc: 0.5120\n",
      "Epoch 297/300\n",
      "39/39 [==============================] - 3s 75ms/step - loss: 1.3726 - acc: 0.5256\n",
      "Epoch 298/300\n",
      "39/39 [==============================] - 3s 75ms/step - loss: 1.3429 - acc: 0.5128\n",
      "Epoch 299/300\n",
      "39/39 [==============================] - 3s 76ms/step - loss: 1.2934 - acc: 0.5385\n",
      "Epoch 300/300\n",
      "39/39 [==============================] - 3s 76ms/step - loss: 1.3265 - acc: 0.5096\n"
     ]
    },
    {
     "data": {
      "text/plain": [
       "<keras.callbacks.History at 0x7f8189ce8518>"
      ]
     },
     "execution_count": 35,
     "metadata": {},
     "output_type": "execute_result"
    }
   ],
   "source": [
    "model.fit_generator(training_set,\n",
    "                         samples_per_epoch = len_tr,\n",
    "                         nb_epoch = 300)"
   ]
  },
  {
   "cell_type": "code",
   "execution_count": 36,
   "metadata": {},
   "outputs": [],
   "source": [
    "predicto = model.predict_classes(X_test)"
   ]
  },
  {
   "cell_type": "code",
   "execution_count": 37,
   "metadata": {},
   "outputs": [
    {
     "data": {
      "text/plain": [
       "(10000,)"
      ]
     },
     "execution_count": 37,
     "metadata": {},
     "output_type": "execute_result"
    }
   ],
   "source": [
    "predicto.shape"
   ]
  },
  {
   "cell_type": "code",
   "execution_count": 38,
   "metadata": {},
   "outputs": [
    {
     "data": {
      "text/plain": [
       "(10000, 1)"
      ]
     },
     "execution_count": 38,
     "metadata": {},
     "output_type": "execute_result"
    }
   ],
   "source": [
    "y_test.shape"
   ]
  },
  {
   "cell_type": "code",
   "execution_count": 39,
   "metadata": {},
   "outputs": [
    {
     "data": {
      "text/plain": [
       "0.1333"
      ]
     },
     "execution_count": 39,
     "metadata": {},
     "output_type": "execute_result"
    }
   ],
   "source": [
    "from sklearn.metrics import accuracy_score\n",
    "accuracy_score(y_test, predicto)"
   ]
  },
  {
   "cell_type": "code",
   "execution_count": 40,
   "metadata": {},
   "outputs": [
    {
     "data": {
      "text/plain": [
       "array([3, 3, 3, ..., 3, 3, 3])"
      ]
     },
     "execution_count": 40,
     "metadata": {},
     "output_type": "execute_result"
    }
   ],
   "source": [
    "predicto"
   ]
  },
  {
   "cell_type": "code",
   "execution_count": 41,
   "metadata": {},
   "outputs": [
    {
     "data": {
      "text/plain": [
       "array([[5],\n",
       "       [1],\n",
       "       [3],\n",
       "       ...,\n",
       "       [8],\n",
       "       [4],\n",
       "       [1]], dtype=uint8)"
      ]
     },
     "execution_count": 41,
     "metadata": {},
     "output_type": "execute_result"
    }
   ],
   "source": [
    "y_test"
   ]
  },
  {
   "cell_type": "code",
   "execution_count": 42,
   "metadata": {},
   "outputs": [],
   "source": [
    "name = {0:\"airplane\", 1:\"automobile\", 2:\"bird\", 3:\"cat\", 4:\"deer\", 5:\"dog\", 6:\"frog\", 7:\"horse\", 8:\"ship\", 9:\"truck\"}"
   ]
  },
  {
   "cell_type": "code",
   "execution_count": 43,
   "metadata": {},
   "outputs": [
    {
     "name": "stdout",
     "output_type": "stream",
     "text": [
      "this is a dog -------- prediction is: cat\n",
      "this is a frog -------- prediction is: frog\n",
      "this is a automobile -------- prediction is: cat\n",
      "this is a cat -------- prediction is: cat\n",
      "this is a airplane -------- prediction is: cat\n",
      "this is a horse -------- prediction is: cat\n",
      "this is a airplane -------- prediction is: cat\n",
      "this is a airplane -------- prediction is: cat\n",
      "this is a airplane -------- prediction is: cat\n",
      "this is a airplane -------- prediction is: cat\n",
      "this is a cat -------- prediction is: cat\n",
      "this is a bird -------- prediction is: cat\n",
      "this is a truck -------- prediction is: truck\n",
      "this is a automobile -------- prediction is: cat\n",
      "this is a airplane -------- prediction is: cat\n"
     ]
    },
    {
     "data": {
      "image/png": "[encoded data removed]",
      "text/plain": [
       "<Figure size 1152x720 with 15 Axes>"
      ]
     },
     "metadata": {},
     "output_type": "display_data"
    }
   ],
   "source": [
    "fig, axes = plt.subplots(3,5, figsize=(16,10))\n",
    "\n",
    "for i in range(3):\n",
    "    for j in range(5):\n",
    "        r = np.random.randint(10000, size=1)[0]\n",
    "        axes[i, j].imshow(X_test[r][:,:,:])\n",
    "        #axes[i, j].title('dddd')\n",
    "        print('this is a', name[y_test[r][0]], '-------- prediction is:', name[predicto[r]])"
   ]
  },
  {
   "cell_type": "code",
   "execution_count": 44,
   "metadata": {},
   "outputs": [],
   "source": []
  }
 ],
 "metadata": {
  "kernelspec": {
   "display_name": "Python 3",
   "language": "python",
   "name": "python3"
  },
  "language_info": {
   "codemirror_mode": {
    "name": "ipython",
    "version": 3
   },
   "file_extension": ".py",
   "mimetype": "text/x-python",
   "name": "python",
   "nbconvert_exporter": "python",
   "pygments_lexer": "ipython3",
   "version": "3.6.4"
  }
 },
 "nbformat": 4,
 "nbformat_minor": 1
}
